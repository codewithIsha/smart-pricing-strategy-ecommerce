{
  "nbformat": 4,
  "nbformat_minor": 0,
  "metadata": {
    "colab": {
      "provenance": []
    },
    "kernelspec": {
      "name": "python3",
      "display_name": "Python 3"
    },
    "language_info": {
      "name": "python"
    }
  },
  "cells": [
    {
      "cell_type": "code",
      "source": [
        "import re\n",
        "from datetime import datetime, timedelta\n",
        "\n",
        "import numpy as np\n",
        "import pandas as pd\n",
        "from tqdm import tqdm\n",
        "\n",
        "# -----------------------------------------------------------------------------\n",
        "# 1) Precompile Regexes & Setup Constants\n",
        "# -----------------------------------------------------------------------------\n",
        "\n",
        "# match pure-number → Excel serial\n",
        "RE_SERIAL = re.compile(r'^\\d+(\\.\\d+)?$')\n",
        "# match text dates like \"12-13-2010 9:02\" or \"12-01-2010 08:26:00\"\n",
        "RE_TEXT   = re.compile(r'^\\d{1,2}-\\d{1,2}-\\d{4}\\s+\\d{1,2}:\\d{2}(:\\d{2})?$')\n",
        "\n",
        "# Excel's zero; pandas uses the same convention\n",
        "EXCEL_ORIGIN = datetime(1899, 12, 30)\n",
        "\n",
        "def serials_to_datetime(arr: np.ndarray) -> pd.DatetimeIndex:\n",
        "    \"\"\"\n",
        "    Convert an array of floats (Excel serial dates) into a DatetimeIndex.\n",
        "    \"\"\"\n",
        "    # pandas-friendly vectorized conversion\n",
        "    return EXCEL_ORIGIN + pd.to_timedelta(arr.astype(float), unit='D')\n",
        "\n",
        "# -----------------------------------------------------------------------------\n",
        "# 2) Load CSV (force InvoiceDate → str so serials don’t auto-convert to floats)\n",
        "# -----------------------------------------------------------------------------\n",
        "\n",
        "df = pd.read_csv(\"/content/invoices_cleaned.csv\", dtype={\"InvoiceDate\": str})\n",
        "\n",
        "# strip whitespace once\n",
        "df[\"InvoiceDate\"] = df[\"InvoiceDate\"].str.strip()\n",
        "\n",
        "# -----------------------------------------------------------------------------\n",
        "# 3) Identify masks\n",
        "# -----------------------------------------------------------------------------\n",
        "\n",
        "is_serial = df[\"InvoiceDate\"].str.match(RE_SERIAL)\n",
        "is_text   = df[\"InvoiceDate\"].str.match(RE_TEXT)\n",
        "\n",
        "# -----------------------------------------------------------------------------\n",
        "# 4) Vectorized conversions\n",
        "# -----------------------------------------------------------------------------\n",
        "\n",
        "# A) Excel-serials → datetime\n",
        "if is_serial.any():\n",
        "    serial_vals = df.loc[is_serial, \"InvoiceDate\"].astype(float).to_numpy()\n",
        "    df.loc[is_serial, \"InvoiceDate\"] = serials_to_datetime(serial_vals)\n",
        "\n",
        "# B) Well-formed text dates → datetime via pandas.to_datetime with format\n",
        "#    (this is still vectorized under the hood)\n",
        "if is_text.any():\n",
        "    df.loc[is_text, \"InvoiceDate\"] = pd.to_datetime(\n",
        "        df.loc[is_text, \"InvoiceDate\"],\n",
        "        format=\"%m-%d-%Y %H:%M:%S\",\n",
        "        errors=\"coerce\"\n",
        "    )\n",
        "\n",
        "# -----------------------------------------------------------------------------\n",
        "# 5) Fallback: any remaining that aren’t datetime yet\n",
        "# -----------------------------------------------------------------------------\n",
        "\n",
        "# find rows still not converted\n",
        "needs_fixing = ~pd.to_datetime(df[\"InvoiceDate\"], errors=\"coerce\").notna()\n",
        "\n",
        "if needs_fixing.any():\n",
        "    tqdm.pandas(desc=\"Parsing fallback dates\")\n",
        "\n",
        "    def parse_fallback(s: str) -> pd.Timestamp:\n",
        "        \"\"\"Try regex+strptime, else pandas to_datetime.\"\"\"\n",
        "        if RE_TEXT.match(s):\n",
        "            # normalize hh:mm or hh:mm:ss\n",
        "            m = RE_TEXT.match(s)\n",
        "            parts = m.group(0).split()\n",
        "            dt = datetime.strptime(parts[0] + \" \" + parts[1], \"%m-%d-%Y %H:%M:%S\")\n",
        "            return pd.Timestamp(dt)\n",
        "        # last resort\n",
        "        return pd.to_datetime(s, errors=\"coerce\")\n",
        "\n",
        "    df.loc[needs_fixing, \"InvoiceDate\"] = (\n",
        "        df.loc[needs_fixing, \"InvoiceDate\"]\n",
        "          .progress_apply(parse_fallback)\n",
        "    )\n",
        "\n",
        "# -----------------------------------------------------------------------------\n",
        "# 6) Final cleanup & save\n",
        "# -----------------------------------------------------------------------------\n",
        "\n",
        "# Report any that _still_ failed\n",
        "n_failed = df[\"InvoiceDate\"].isna().sum()\n",
        "if n_failed:\n",
        "    print(f\"⚠️ {n_failed} rows could not be parsed (set to NaT)\")\n",
        "\n",
        "\n",
        "# Ensure the whole column really is datetime‐typed before using .dt\n",
        "df[\"InvoiceDate\"] = pd.to_datetime(df[\"InvoiceDate\"], errors=\"coerce\")\n",
        "\n",
        "# (Optional) format uniformly as string for CSV / DB import\n",
        "df[\"InvoiceDate\"] = df[\"InvoiceDate\"].dt.strftime(\"%Y-%m-%d %H:%M:%S\")\n",
        "\n",
        "df.to_csv(\"invoices_fixed.csv\", index=False)\n",
        "print(\"✅ Done! → invoices_fixed.csv\")\n"
      ],
      "metadata": {
        "colab": {
          "base_uri": "https://localhost:8080/"
        },
        "id": "2c5WkTJFOLaZ",
        "outputId": "4d065bb7-eb3d-421e-b5ab-e6bfad5c64f0"
      },
      "execution_count": null,
      "outputs": [
        {
          "output_type": "stream",
          "name": "stderr",
          "text": [
            "Parsing fallback dates: 100%|██████████| 229253/229253 [01:53<00:00, 2022.31it/s]\n"
          ]
        },
        {
          "output_type": "stream",
          "name": "stdout",
          "text": [
            "✅ Done! → invoices_fixed.csv\n"
          ]
        }
      ]
    }
  ]
}
